{
 "cells": [
  {
   "cell_type": "markdown",
   "id": "963ed8fe-93b5-4202-bb1a-b9fa7266c760",
   "metadata": {},
   "source": [
    "### Review Classification Model"
   ]
  },
  {
   "cell_type": "markdown",
   "id": "08e64b94-d4e5-499d-9123-d59f8850798c",
   "metadata": {},
   "source": [
    "- The MultinomialNB classifier is suitable for classifying text data where features represent counts of words or other discrete elements. \n",
    "- Where as Bernoulli naive bayes is used when you only when the features represent the presence or absence of the words as in case of one hot encoding."
   ]
  },
  {
   "cell_type": "code",
   "execution_count": 1,
   "id": "dae7730d-50a0-495f-8324-1e5d929cc748",
   "metadata": {},
   "outputs": [],
   "source": [
    "#!python -m spacy download en_core_web_sm "
   ]
  },
  {
   "cell_type": "code",
   "execution_count": 2,
   "id": "626f5f7f-e1d2-4d76-98e7-3851d0c328e0",
   "metadata": {},
   "outputs": [],
   "source": [
    "import nltk\n",
    "import pandas as pd\n",
    "import numpy as np\n",
    "import spacy\n",
    "from nltk.corpus import stopwords\n",
    "from nltk.stem import WordNetLemmatizer\n",
    "from sklearn.model_selection import train_test_split, cross_validate, StratifiedKFold\n",
    "from sklearn.pipeline import Pipeline\n",
    "from sklearn.feature_extraction.text import CountVectorizer, TfidfVectorizer\n",
    "from sklearn.naive_bayes import MultinomialNB, BernoulliNB\n",
    "from sklearn.metrics import accuracy_score, classification_report\n",
    "import spacy\n",
    "\n",
    "# Load the English language model with lemmatization capabilities\n",
    "\n",
    "nlp = spacy.load(\"en_core_web_sm\")"
   ]
  },
  {
   "cell_type": "code",
   "execution_count": 3,
   "id": "008db2d1-387d-4b36-9b23-c91f5b59723d",
   "metadata": {},
   "outputs": [],
   "source": [
    "import ssl\n",
    "\n",
    "try:\n",
    "    _create_unverified_https_context = ssl._create_unverified_context\n",
    "except AttributeError:\n",
    "    pass\n",
    "else:\n",
    "    ssl._create_default_https_context = _create_unverified_https_context"
   ]
  },
  {
   "cell_type": "code",
   "execution_count": 4,
   "id": "f80dec41-fe83-4fc1-b3ef-136562df88e2",
   "metadata": {},
   "outputs": [
    {
     "name": "stderr",
     "output_type": "stream",
     "text": [
      "[nltk_data] Downloading package punkt_tab to\n",
      "[nltk_data]     /Users/asthapuri/nltk_data...\n",
      "[nltk_data]   Package punkt_tab is already up-to-date!\n",
      "[nltk_data] Downloading package stopwords to\n",
      "[nltk_data]     /Users/asthapuri/nltk_data...\n",
      "[nltk_data]   Package stopwords is already up-to-date!\n"
     ]
    },
    {
     "data": {
      "text/plain": [
       "True"
      ]
     },
     "execution_count": 4,
     "metadata": {},
     "output_type": "execute_result"
    }
   ],
   "source": [
    "# Download NLTK resources\n",
    "nltk.download('punkt_tab')\n",
    "nltk.download('stopwords')"
   ]
  },
  {
   "cell_type": "code",
   "execution_count": 5,
   "id": "57711c8f-85ef-414b-8727-7753bd12de3d",
   "metadata": {},
   "outputs": [],
   "source": [
    "# read the dataset\n",
    "train = pd.read_csv('train.csv')\n",
    "validation = pd.read_csv('validation.csv')\n",
    "test = pd.read_csv('test.csv')"
   ]
  },
  {
   "cell_type": "code",
   "execution_count": 6,
   "id": "486873bc-4dd4-4252-a61f-2460cd780105",
   "metadata": {},
   "outputs": [
    {
     "data": {
      "text/plain": [
       "((17877, 5), (3831, 5), (3831, 5))"
      ]
     },
     "execution_count": 6,
     "metadata": {},
     "output_type": "execute_result"
    }
   ],
   "source": [
    "train.shape, validation.shape, test.shape"
   ]
  },
  {
   "cell_type": "code",
   "execution_count": 7,
   "id": "ac28c53b-9b5d-4995-8f23-5d4a3617b678",
   "metadata": {},
   "outputs": [
    {
     "data": {
      "text/html": [
       "<div>\n",
       "<style scoped>\n",
       "    .dataframe tbody tr th:only-of-type {\n",
       "        vertical-align: middle;\n",
       "    }\n",
       "\n",
       "    .dataframe tbody tr th {\n",
       "        vertical-align: top;\n",
       "    }\n",
       "\n",
       "    .dataframe thead th {\n",
       "        text-align: right;\n",
       "    }\n",
       "</style>\n",
       "<table border=\"1\" class=\"dataframe\">\n",
       "  <thead>\n",
       "    <tr style=\"text-align: right;\">\n",
       "      <th></th>\n",
       "      <th>review_id</th>\n",
       "      <th>title</th>\n",
       "      <th>year</th>\n",
       "      <th>user_review</th>\n",
       "      <th>user_suggestion</th>\n",
       "    </tr>\n",
       "  </thead>\n",
       "  <tbody>\n",
       "    <tr>\n",
       "      <th>0</th>\n",
       "      <td>460</td>\n",
       "      <td>Black Squad</td>\n",
       "      <td>2018.0</td>\n",
       "      <td>Early Access ReviewVery great shooter, that ha...</td>\n",
       "      <td>1</td>\n",
       "    </tr>\n",
       "    <tr>\n",
       "      <th>1</th>\n",
       "      <td>2166</td>\n",
       "      <td>Tree of Savior (English Ver.)</td>\n",
       "      <td>2016.0</td>\n",
       "      <td>I love love love playing this game!Super 100%!...</td>\n",
       "      <td>1</td>\n",
       "    </tr>\n",
       "    <tr>\n",
       "      <th>2</th>\n",
       "      <td>17242</td>\n",
       "      <td>Eternal Card Game</td>\n",
       "      <td>2016.0</td>\n",
       "      <td>Early Access ReviewAs a fan of MTG and Hearths...</td>\n",
       "      <td>1</td>\n",
       "    </tr>\n",
       "    <tr>\n",
       "      <th>3</th>\n",
       "      <td>6959</td>\n",
       "      <td>Tactical Monsters Rumble Arena</td>\n",
       "      <td>2018.0</td>\n",
       "      <td>Turn based strategy game similiar to FF Tactic...</td>\n",
       "      <td>1</td>\n",
       "    </tr>\n",
       "    <tr>\n",
       "      <th>4</th>\n",
       "      <td>8807</td>\n",
       "      <td>Yu-Gi-Oh! Duel Links</td>\n",
       "      <td>2017.0</td>\n",
       "      <td>This game has an insanely huge download for be...</td>\n",
       "      <td>0</td>\n",
       "    </tr>\n",
       "  </tbody>\n",
       "</table>\n",
       "</div>"
      ],
      "text/plain": [
       "   review_id                           title    year  \\\n",
       "0        460                     Black Squad  2018.0   \n",
       "1       2166   Tree of Savior (English Ver.)  2016.0   \n",
       "2      17242               Eternal Card Game  2016.0   \n",
       "3       6959  Tactical Monsters Rumble Arena  2018.0   \n",
       "4       8807            Yu-Gi-Oh! Duel Links  2017.0   \n",
       "\n",
       "                                         user_review  user_suggestion  \n",
       "0  Early Access ReviewVery great shooter, that ha...                1  \n",
       "1  I love love love playing this game!Super 100%!...                1  \n",
       "2  Early Access ReviewAs a fan of MTG and Hearths...                1  \n",
       "3  Turn based strategy game similiar to FF Tactic...                1  \n",
       "4  This game has an insanely huge download for be...                0  "
      ]
     },
     "execution_count": 7,
     "metadata": {},
     "output_type": "execute_result"
    }
   ],
   "source": [
    "# view the train data\n",
    "train.head()"
   ]
  },
  {
   "cell_type": "code",
   "execution_count": 8,
   "id": "616cced2-5eb0-41ca-8981-ef5d95a20d98",
   "metadata": {},
   "outputs": [
    {
     "data": {
      "text/html": [
       "<div>\n",
       "<style scoped>\n",
       "    .dataframe tbody tr th:only-of-type {\n",
       "        vertical-align: middle;\n",
       "    }\n",
       "\n",
       "    .dataframe tbody tr th {\n",
       "        vertical-align: top;\n",
       "    }\n",
       "\n",
       "    .dataframe thead th {\n",
       "        text-align: right;\n",
       "    }\n",
       "</style>\n",
       "<table border=\"1\" class=\"dataframe\">\n",
       "  <thead>\n",
       "    <tr style=\"text-align: right;\">\n",
       "      <th></th>\n",
       "      <th>review_id</th>\n",
       "      <th>title</th>\n",
       "      <th>year</th>\n",
       "      <th>user_review</th>\n",
       "      <th>user_suggestion</th>\n",
       "    </tr>\n",
       "  </thead>\n",
       "  <tbody>\n",
       "    <tr>\n",
       "      <th>0</th>\n",
       "      <td>12053</td>\n",
       "      <td>Infestation: The New Z</td>\n",
       "      <td>2016.0</td>\n",
       "      <td>Unbelievable that this rehash copy and paste t...</td>\n",
       "      <td>0</td>\n",
       "    </tr>\n",
       "    <tr>\n",
       "      <th>1</th>\n",
       "      <td>12536</td>\n",
       "      <td>SMITE®</td>\n",
       "      <td>2015.0</td>\n",
       "      <td>I can't recommened this game in its current st...</td>\n",
       "      <td>0</td>\n",
       "    </tr>\n",
       "    <tr>\n",
       "      <th>2</th>\n",
       "      <td>747</td>\n",
       "      <td>Heroes &amp; Generals</td>\n",
       "      <td>2016.0</td>\n",
       "      <td>Early Access ReviewThis game is constantly evo...</td>\n",
       "      <td>0</td>\n",
       "    </tr>\n",
       "    <tr>\n",
       "      <th>3</th>\n",
       "      <td>3214</td>\n",
       "      <td>World of Warships</td>\n",
       "      <td>2018.0</td>\n",
       "      <td>I play this game because it scratches an itch....</td>\n",
       "      <td>0</td>\n",
       "    </tr>\n",
       "    <tr>\n",
       "      <th>4</th>\n",
       "      <td>4036</td>\n",
       "      <td>World of Guns: Gun Disassembly</td>\n",
       "      <td>2016.0</td>\n",
       "      <td>Finally, a game for people like us to enjoy! P...</td>\n",
       "      <td>1</td>\n",
       "    </tr>\n",
       "  </tbody>\n",
       "</table>\n",
       "</div>"
      ],
      "text/plain": [
       "   review_id                           title    year  \\\n",
       "0      12053          Infestation: The New Z  2016.0   \n",
       "1      12536                          SMITE®  2015.0   \n",
       "2        747               Heroes & Generals  2016.0   \n",
       "3       3214               World of Warships  2018.0   \n",
       "4       4036  World of Guns: Gun Disassembly  2016.0   \n",
       "\n",
       "                                         user_review  user_suggestion  \n",
       "0  Unbelievable that this rehash copy and paste t...                0  \n",
       "1  I can't recommened this game in its current st...                0  \n",
       "2  Early Access ReviewThis game is constantly evo...                0  \n",
       "3  I play this game because it scratches an itch....                0  \n",
       "4  Finally, a game for people like us to enjoy! P...                1  "
      ]
     },
     "execution_count": 8,
     "metadata": {},
     "output_type": "execute_result"
    }
   ],
   "source": [
    "# view the test data\n",
    "test.head()"
   ]
  },
  {
   "cell_type": "code",
   "execution_count": 9,
   "id": "dd2aff33-cf64-4141-b878-d34013ba37bd",
   "metadata": {},
   "outputs": [
    {
     "data": {
      "text/html": [
       "<div>\n",
       "<style scoped>\n",
       "    .dataframe tbody tr th:only-of-type {\n",
       "        vertical-align: middle;\n",
       "    }\n",
       "\n",
       "    .dataframe tbody tr th {\n",
       "        vertical-align: top;\n",
       "    }\n",
       "\n",
       "    .dataframe thead th {\n",
       "        text-align: right;\n",
       "    }\n",
       "</style>\n",
       "<table border=\"1\" class=\"dataframe\">\n",
       "  <thead>\n",
       "    <tr style=\"text-align: right;\">\n",
       "      <th></th>\n",
       "      <th>review_id</th>\n",
       "      <th>title</th>\n",
       "      <th>year</th>\n",
       "      <th>user_review</th>\n",
       "      <th>user_suggestion</th>\n",
       "    </tr>\n",
       "  </thead>\n",
       "  <tbody>\n",
       "    <tr>\n",
       "      <th>0</th>\n",
       "      <td>8604</td>\n",
       "      <td>Dungeon Defenders II</td>\n",
       "      <td>2015.0</td>\n",
       "      <td>Early Access Review* Ok Played the first DD lo...</td>\n",
       "      <td>1</td>\n",
       "    </tr>\n",
       "    <tr>\n",
       "      <th>1</th>\n",
       "      <td>20407</td>\n",
       "      <td>Minion Masters</td>\n",
       "      <td>2017.0</td>\n",
       "      <td>Product received for freeEarly Access ReviewSo...</td>\n",
       "      <td>1</td>\n",
       "    </tr>\n",
       "    <tr>\n",
       "      <th>2</th>\n",
       "      <td>636</td>\n",
       "      <td>Magic Duels</td>\n",
       "      <td>2018.0</td>\n",
       "      <td>Game is extremely unfun to play unless you wan...</td>\n",
       "      <td>0</td>\n",
       "    </tr>\n",
       "    <tr>\n",
       "      <th>3</th>\n",
       "      <td>10217</td>\n",
       "      <td>Robocraft</td>\n",
       "      <td>2016.0</td>\n",
       "      <td>Early Access ReviewThis used to be an amazing ...</td>\n",
       "      <td>0</td>\n",
       "    </tr>\n",
       "    <tr>\n",
       "      <th>4</th>\n",
       "      <td>9564</td>\n",
       "      <td>Realm of the Mad God</td>\n",
       "      <td>2014.0</td>\n",
       "      <td>With stunning visuals, an immersive storyline,...</td>\n",
       "      <td>1</td>\n",
       "    </tr>\n",
       "  </tbody>\n",
       "</table>\n",
       "</div>"
      ],
      "text/plain": [
       "   review_id                 title    year  \\\n",
       "0       8604  Dungeon Defenders II  2015.0   \n",
       "1      20407        Minion Masters  2017.0   \n",
       "2        636           Magic Duels  2018.0   \n",
       "3      10217             Robocraft  2016.0   \n",
       "4       9564  Realm of the Mad God  2014.0   \n",
       "\n",
       "                                         user_review  user_suggestion  \n",
       "0  Early Access Review* Ok Played the first DD lo...                1  \n",
       "1  Product received for freeEarly Access ReviewSo...                1  \n",
       "2  Game is extremely unfun to play unless you wan...                0  \n",
       "3  Early Access ReviewThis used to be an amazing ...                0  \n",
       "4  With stunning visuals, an immersive storyline,...                1  "
      ]
     },
     "execution_count": 9,
     "metadata": {},
     "output_type": "execute_result"
    }
   ],
   "source": [
    "# view the valodation data\n",
    "validation.head()"
   ]
  },
  {
   "cell_type": "code",
   "execution_count": 10,
   "id": "65253245-935d-48ce-b7b1-532405d6841f",
   "metadata": {},
   "outputs": [
    {
     "data": {
      "text/plain": [
       "user_suggestion\n",
       "1    2187\n",
       "0    1644\n",
       "Name: count, dtype: int64"
      ]
     },
     "execution_count": 10,
     "metadata": {},
     "output_type": "execute_result"
    }
   ],
   "source": [
    "test['user_suggestion'].value_counts()"
   ]
  },
  {
   "cell_type": "markdown",
   "id": "4e049f63-73a5-42ba-ad96-1aa2432106f3",
   "metadata": {},
   "source": [
    "### Preprocessing"
   ]
  },
  {
   "cell_type": "code",
   "execution_count": 11,
   "id": "406c67ef-acf7-47d2-8376-30fcdef9e6a1",
   "metadata": {},
   "outputs": [],
   "source": [
    "# Load the SpaCy English model\n",
    "# Since we are not using NER, we can disable it to speedup\n",
    "nlp = spacy.load(\"en_core_web_sm\", disable='ner')"
   ]
  },
  {
   "cell_type": "code",
   "execution_count": 12,
   "id": "ba054122-b6ad-4c85-97b8-bd7f9662dc31",
   "metadata": {},
   "outputs": [],
   "source": [
    "def preprocess_text(texts):\n",
    "    # lemmatize the tokens and store them in a list\n",
    "    processed_texts = []\n",
    "    for doc in nlp.pipe(texts, n_process=-1):\n",
    "        lemmatized_tokens = [token.lemma_.lower() for token in doc if token.is_alpha and token.lemma_ not in nlp.Defaults.stop_words]\n",
    "        \n",
    "        # Join the lemmatized tokens into a string\n",
    "        processed_text = \" \".join(lemmatized_tokens)\n",
    "        \n",
    "        processed_texts.append(processed_text)\n",
    "        \n",
    "    return processed_texts"
   ]
  },
  {
   "cell_type": "markdown",
   "id": "408d8e01-8a49-4759-88c7-15fe282c3908",
   "metadata": {},
   "source": [
    "### Explanation\n",
    "This function preprocesses a list of texts using spaCy. Here's a breakdown:\n",
    "\n",
    "1. Initialization: It creates an empty list processed_texts to store the processed versions of the input texts.\n",
    "2. Looping: It iterates through the input texts using spaCy's nlp.pipe method with n_process=-1 for multi-core processing (if available).\n",
    "3. Lemmatization and Stopword Removal: For each text (as a spaCy doc object):\n",
    "    - It extracts the tokens (words).\n",
    "    - It lemmatizes each token, converting words to their base form (\"running\" becomes \"run\").\n",
    "    - It converts all tokens to lowercase.\n",
    "    - The is_alpha attribute makes sure that only alpha numeric tokens are considered.\n",
    "    - It removes stop words like \"the\" and \"a\" (using nlp.Defaults.stop_words).\n",
    "4. Text Joining: It joins the remaining lemmatized tokens back into a single string.\n",
    "5. Storage: It appends the processed text to the processed_texts list.\n",
    "6. Return: Finally, the function returns the list of preprocessed texts."
   ]
  },
  {
   "cell_type": "code",
   "execution_count": 13,
   "id": "c24773bd-0b8f-4fdd-8cc7-11149ce27992",
   "metadata": {},
   "outputs": [],
   "source": [
    "# apply preprcoess_text function to user_review column\n",
    "train['user_review'] = preprocess_text(train['user_review'])\n",
    "validation['user_review'] = preprocess_text(validation['user_review'])\n",
    "test['user_review'] = preprocess_text(test['user_review'])"
   ]
  },
  {
   "cell_type": "markdown",
   "id": "d5654cdd-0313-4ff1-be51-4335f629616f",
   "metadata": {},
   "source": [
    "### Vectorization"
   ]
  },
  {
   "cell_type": "markdown",
   "id": "4a426923-6d52-42f6-87bb-fc3c5ea8e873",
   "metadata": {},
   "source": [
    "#### One hot encoding"
   ]
  },
  {
   "cell_type": "code",
   "execution_count": 14,
   "id": "6a2fce96-1de5-4413-b7cb-b781f0b20314",
   "metadata": {},
   "outputs": [],
   "source": [
    "# any word which does not appear in more than 0.1% documents or reviews will not be considered \n",
    "# in the internal vocabulary being created by count vectorizer\n",
    "count_vectorizer_ohe = CountVectorizer(min_df=0.001, binary=True)"
   ]
  },
  {
   "cell_type": "code",
   "execution_count": 15,
   "id": "b7d2bc42-19af-4abb-80a1-c4198f573471",
   "metadata": {},
   "outputs": [],
   "source": [
    "#fit_transform user_review\n",
    "count_vectorizer_ohe_train = count_vectorizer_ohe.fit_transform(train['user_review'])"
   ]
  },
  {
   "cell_type": "markdown",
   "id": "65de52af-4b7d-4c82-b5cb-d374408960ca",
   "metadata": {},
   "source": [
    "#### Naive Bayes Model"
   ]
  },
  {
   "cell_type": "code",
   "execution_count": 16,
   "id": "500b88e2-0bd6-42e9-b74b-ac88315c454c",
   "metadata": {},
   "outputs": [],
   "source": [
    "# Naive Bayes Classifier\n",
    "naive_bayes_classifier = BernoulliNB()"
   ]
  },
  {
   "cell_type": "code",
   "execution_count": 17,
   "id": "00b1e1d0-6942-4f9d-933d-6c1cb47823c6",
   "metadata": {},
   "outputs": [
    {
     "data": {
      "text/plain": [
       "0.825585948425351"
      ]
     },
     "execution_count": 17,
     "metadata": {},
     "output_type": "execute_result"
    }
   ],
   "source": [
    "#create the naive bayes model for the train data\n",
    "naive_bayes_classifier.fit(count_vectorizer_ohe_train, train['user_suggestion'])\n",
    "naive_bayes_classifier.score(count_vectorizer_ohe_train, train['user_suggestion'])"
   ]
  },
  {
   "cell_type": "code",
   "execution_count": 18,
   "id": "7dc4effe-8280-4ad2-9d10-11dd04369ec7",
   "metadata": {},
   "outputs": [
    {
     "data": {
      "text/plain": [
       "0.8107543722265727"
      ]
     },
     "execution_count": 18,
     "metadata": {},
     "output_type": "execute_result"
    }
   ],
   "source": [
    "##create the naive bayes model for the validation data\n",
    "count_vectorizer_ohe_val = count_vectorizer_ohe.transform(validation['user_review'])\n",
    "naive_bayes_classifier.score(count_vectorizer_ohe_val, validation['user_suggestion'])"
   ]
  },
  {
   "cell_type": "markdown",
   "id": "1fc300eb-fde4-4366-8a90-a6a445e5c8ec",
   "metadata": {},
   "source": [
    "#### Count Vectorizer"
   ]
  },
  {
   "cell_type": "code",
   "execution_count": 19,
   "id": "fed7de6f-38b7-4c42-b033-2b05441ae06d",
   "metadata": {},
   "outputs": [],
   "source": [
    "# initialize count_vectorizer and name it count_vectorizer\n",
    "count_vectorizer = CountVectorizer(min_df=0.001)"
   ]
  },
  {
   "cell_type": "code",
   "execution_count": 20,
   "id": "b0ce21f1-3c38-4603-8e05-2607fbb33087",
   "metadata": {},
   "outputs": [],
   "source": [
    "#fit_transform user_review\n",
    "count_vectorizer_train = count_vectorizer.fit_transform(train['user_review'])"
   ]
  },
  {
   "cell_type": "markdown",
   "id": "c2b76911-60c9-422a-8692-b0962c708296",
   "metadata": {},
   "source": [
    "#### Naive Bayes Model"
   ]
  },
  {
   "cell_type": "code",
   "execution_count": 21,
   "id": "307fd7b8-81ae-4f58-a624-27afd306c973",
   "metadata": {},
   "outputs": [],
   "source": [
    "# Naive Bayes Classifier\n",
    "naive_bayes_classifier = MultinomialNB()"
   ]
  },
  {
   "cell_type": "code",
   "execution_count": 22,
   "id": "afe6e4e9-65ba-4b3f-9ab2-4bfca761c161",
   "metadata": {},
   "outputs": [
    {
     "data": {
      "text/plain": [
       "0.8392347709347205"
      ]
     },
     "execution_count": 22,
     "metadata": {},
     "output_type": "execute_result"
    }
   ],
   "source": [
    "#create the naive bayes model for the train data\n",
    "naive_bayes_classifier.fit(count_vectorizer_train, train['user_suggestion'])\n",
    "naive_bayes_classifier.score(count_vectorizer_train, train['user_suggestion'])"
   ]
  },
  {
   "cell_type": "code",
   "execution_count": 23,
   "id": "a777bbe2-a924-4539-b544-4706551af711",
   "metadata": {},
   "outputs": [
    {
     "data": {
      "text/plain": [
       "0.8274601931610546"
      ]
     },
     "execution_count": 23,
     "metadata": {},
     "output_type": "execute_result"
    }
   ],
   "source": [
    "##create the naive bayes model for the validation data\n",
    "count_vectorizer_val = count_vectorizer.transform(validation['user_review'])\n",
    "naive_bayes_classifier.score(count_vectorizer_val, validation['user_suggestion'])"
   ]
  },
  {
   "cell_type": "markdown",
   "id": "25e4799b-b132-45d3-b561-bde902992177",
   "metadata": {},
   "source": [
    "#### TF-IDF"
   ]
  },
  {
   "cell_type": "code",
   "execution_count": 24,
   "id": "22dcf277-fe55-493a-9f1a-cb31d31db539",
   "metadata": {},
   "outputs": [],
   "source": [
    "# import TfidfVectorizer\n",
    "from sklearn.feature_extraction.text import TfidfVectorizer"
   ]
  },
  {
   "cell_type": "code",
   "execution_count": 25,
   "id": "1498ea19-5191-4597-a468-8ccdc3783837",
   "metadata": {},
   "outputs": [],
   "source": [
    "# initialize tfifd vectorizer\n",
    "tfidf_vectorizer = TfidfVectorizer(min_df=0.001)"
   ]
  },
  {
   "cell_type": "code",
   "execution_count": 26,
   "id": "3080ad36-2107-4615-ae6f-a7dfba0fe0fe",
   "metadata": {},
   "outputs": [
    {
     "data": {
      "text/plain": [
       "0.8413604072271634"
      ]
     },
     "execution_count": 26,
     "metadata": {},
     "output_type": "execute_result"
    }
   ],
   "source": [
    "#create the naive bayes model for the train data using tfidf\n",
    "tfidf_vectorizer_train = tfidf_vectorizer.fit_transform(train['user_review'])\n",
    "naive_bayes_classifier.fit(tfidf_vectorizer_train, train['user_suggestion'])\n",
    "naive_bayes_classifier.score(tfidf_vectorizer_train, train['user_suggestion'])"
   ]
  },
  {
   "cell_type": "code",
   "execution_count": 27,
   "id": "b82b124b-f9d2-455f-80c4-3c61f3f43f3b",
   "metadata": {},
   "outputs": [
    {
     "data": {
      "text/plain": [
       "0.822239624119029"
      ]
     },
     "execution_count": 27,
     "metadata": {},
     "output_type": "execute_result"
    }
   ],
   "source": [
    "#create the naive bayes model for the validation data using tfidf\n",
    "tfidf_vectorizer_val = tfidf_vectorizer.transform(validation['user_review'])\n",
    "naive_bayes_classifier.score(tfidf_vectorizer_val, validation['user_suggestion'])"
   ]
  },
  {
   "cell_type": "markdown",
   "id": "8fb8bfbc-9ebb-47e0-be56-90b34ad06e17",
   "metadata": {},
   "source": [
    "#### Using n-gram with TF-IDF"
   ]
  },
  {
   "cell_type": "code",
   "execution_count": 28,
   "id": "c43c0629-ca6a-47da-8f13-f2299fe2ab6a",
   "metadata": {},
   "outputs": [],
   "source": [
    "tfidf_ngram_vectorizer = TfidfVectorizer(min_df=0.001, ngram_range=(1, 3))"
   ]
  },
  {
   "cell_type": "markdown",
   "id": "accc4aa0-73f3-4655-af63-67045ed3f6a6",
   "metadata": {},
   "source": [
    "#### Naive Bayes"
   ]
  },
  {
   "cell_type": "code",
   "execution_count": 29,
   "id": "6cc40b37-ad81-480c-866b-5d6f47b0687a",
   "metadata": {},
   "outputs": [
    {
     "data": {
      "text/plain": [
       "0.8582536219723668"
      ]
     },
     "execution_count": 29,
     "metadata": {},
     "output_type": "execute_result"
    }
   ],
   "source": [
    "#create the naive bayes model for the train data using tfidf and ngram\n",
    "tfidf_ngram_vectorizer_train = tfidf_ngram_vectorizer.fit_transform(train['user_review'])\n",
    "naive_bayes_classifier.fit(tfidf_ngram_vectorizer_train, train['user_suggestion'])\n",
    "naive_bayes_classifier.score(tfidf_ngram_vectorizer_train, train['user_suggestion'])"
   ]
  },
  {
   "cell_type": "code",
   "execution_count": 30,
   "id": "70b61e40-51b5-496c-8bd8-e5ff6ad34dac",
   "metadata": {},
   "outputs": [
    {
     "data": {
      "text/plain": [
       "0.8277212216131559"
      ]
     },
     "execution_count": 30,
     "metadata": {},
     "output_type": "execute_result"
    }
   ],
   "source": [
    "#create the naive bayes model for the validation data using tfidf and ngram\n",
    "tfidf_ngram_vectorizer_val = tfidf_ngram_vectorizer.transform(validation['user_review'])\n",
    "naive_bayes_classifier.score(tfidf_ngram_vectorizer_val, validation['user_suggestion'])"
   ]
  },
  {
   "cell_type": "markdown",
   "id": "cb0bd6a5-7ee3-4604-8ecb-e5ccf5e23a7f",
   "metadata": {},
   "source": [
    "#### Using n-gram with Count Vectorizer"
   ]
  },
  {
   "cell_type": "code",
   "execution_count": 31,
   "id": "b33c3329-cc06-403c-949e-18f432f1c1dd",
   "metadata": {},
   "outputs": [],
   "source": [
    "count_ngram_vectorizer = CountVectorizer(min_df=0.001, ngram_range=(1, 3))"
   ]
  },
  {
   "cell_type": "code",
   "execution_count": 32,
   "id": "dc6cb94f-559d-4128-ba25-0836e8c3c9b2",
   "metadata": {},
   "outputs": [
    {
     "data": {
      "text/plain": [
       "0.8501426413827824"
      ]
     },
     "execution_count": 32,
     "metadata": {},
     "output_type": "execute_result"
    }
   ],
   "source": [
    "#create the naive bayes model for the train data using count vectorizer and ngram\n",
    "count_ngram_vectorizer_train = count_ngram_vectorizer.fit_transform(train['user_review'])\n",
    "naive_bayes_classifier.fit(count_ngram_vectorizer_train, train['user_suggestion'])\n",
    "naive_bayes_classifier.score(count_ngram_vectorizer_train, train['user_suggestion'])"
   ]
  },
  {
   "cell_type": "code",
   "execution_count": 33,
   "id": "c79632ba-1b5d-428e-95f2-0875443f0629",
   "metadata": {},
   "outputs": [
    {
     "data": {
      "text/plain": [
       "0.8277212216131559"
      ]
     },
     "execution_count": 33,
     "metadata": {},
     "output_type": "execute_result"
    }
   ],
   "source": [
    "#create the naive bayes model for the validation data using count vectorizer and ngram\n",
    "count_ngram_vectorizer_val = count_ngram_vectorizer.transform(validation['user_review'])\n",
    "naive_bayes_classifier.score(count_ngram_vectorizer_val, validation['user_suggestion'])"
   ]
  },
  {
   "cell_type": "markdown",
   "id": "ae9c6bdd-bb2d-422a-a61e-4bd756cccc1a",
   "metadata": {},
   "source": [
    "### POS tagging and NER"
   ]
  },
  {
   "cell_type": "code",
   "execution_count": 34,
   "id": "d1a2c741-b665-4397-bb9b-6281324e7bc9",
   "metadata": {},
   "outputs": [],
   "source": [
    "def preprocess_text_spacy(processed_texts):\n",
    "    # Tokenization and POS tagging\n",
    "    pos_texts = []\n",
    "    for doc in nlp.pipe(processed_texts):\n",
    "        pos_tags = [token.pos_ for token in doc]\n",
    "        pos_text = \" \".join(pos_tags)\n",
    "        pos_texts.append(pos_text)\n",
    "\n",
    "    # Named Entity Recognition (NER)\n",
    "    ner_texts = []\n",
    "    for doc in nlp.pipe(processed_texts):     \n",
    "        ner_tags = [token.ent_type_ if token.ent_type_ else \"O\" for token in doc]\n",
    "        ner_text = \" \".join(ner_tags)\n",
    "        ner_texts.append(ner_text)\n",
    "    \n",
    "    return [pos_texts, ner_texts]"
   ]
  },
  {
   "cell_type": "code",
   "execution_count": 44,
   "id": "e888b11c-0451-4a3f-998d-3252d778cf6d",
   "metadata": {},
   "outputs": [],
   "source": [
    "#applying preprocess_text_spacy function to user_review column for train data\n",
    "pos_texts, ner_texts = preprocess_text_spacy(train['user_review'])"
   ]
  },
  {
   "cell_type": "code",
   "execution_count": 45,
   "id": "ebaf4305-b562-46d7-8193-b0c4eb29ceaf",
   "metadata": {},
   "outputs": [],
   "source": [
    "# adding the lists as column to the dataset\n",
    "train['pos_tags'] = pos_texts\n",
    "train['ner_tags'] = ner_texts"
   ]
  },
  {
   "cell_type": "code",
   "execution_count": 46,
   "id": "e0df14e2-af3a-4f3f-b2f4-5a99266fd84d",
   "metadata": {},
   "outputs": [],
   "source": [
    "del train['pos_tags']\n",
    "del train['ner_tags']"
   ]
  },
  {
   "cell_type": "code",
   "execution_count": 47,
   "id": "030c2f58-b817-4700-87ab-ddfb1e9c6ede",
   "metadata": {},
   "outputs": [],
   "source": [
    "def remove_noun(df):\n",
    "\n",
    "  nlp = spacy.load(\"en_core_web_sm\")  \n",
    "\n",
    "  # Process user_review column\n",
    "  filtered_reviews = []\n",
    "  for review in df['user_review']:\n",
    "    filtered_review = \" \".join([token.text for token in nlp(review) if token.pos_ not in ['NOUN', 'PROPN']])\n",
    "    filtered_reviews.append(filtered_review)\n",
    "  \n",
    "  return filtered_reviews"
   ]
  },
  {
   "cell_type": "code",
   "execution_count": 48,
   "id": "0a74e4f8-d40d-4e6b-93ad-e5c02e2d27fa",
   "metadata": {},
   "outputs": [],
   "source": [
    "w_noun_train  = remove_noun(train)"
   ]
  },
  {
   "cell_type": "markdown",
   "id": "3559d45c-4d5c-4d17-90e3-4c8a8802511e",
   "metadata": {},
   "source": [
    "#### TF-IDF with nouns removed"
   ]
  },
  {
   "cell_type": "code",
   "execution_count": 49,
   "id": "53257686-a853-4f02-977d-eb072d4f44a4",
   "metadata": {},
   "outputs": [],
   "source": [
    "tfidf_wnoun_vectorizer = TfidfVectorizer(min_df=0.001)\n",
    "tfidf_wnoun_vectorizer_train = tfidf_wnoun_vectorizer .fit_transform(w_noun_train)"
   ]
  },
  {
   "cell_type": "markdown",
   "id": "e9973c9a-fc5e-4b64-b182-5db4a1251ae9",
   "metadata": {},
   "source": [
    "#### Naive Bayes"
   ]
  },
  {
   "cell_type": "code",
   "execution_count": 50,
   "id": "516350db-7658-4474-8296-41be8f622cc0",
   "metadata": {},
   "outputs": [
    {
     "data": {
      "text/plain": [
       "0.7995748727415114"
      ]
     },
     "execution_count": 50,
     "metadata": {},
     "output_type": "execute_result"
    }
   ],
   "source": [
    "# tfidf_wnoun_vectorizer_train =tfidf_wnoun_vectorizer .fit_transform(train['user_review'])\n",
    "naive_bayes_classifier.fit(tfidf_wnoun_vectorizer_train , train['user_suggestion'])\n",
    "naive_bayes_classifier.score(tfidf_wnoun_vectorizer_train, train['user_suggestion'])"
   ]
  }
 ],
 "metadata": {
  "kernelspec": {
   "display_name": "Python 3 (ipykernel)",
   "language": "python",
   "name": "python3"
  },
  "language_info": {
   "codemirror_mode": {
    "name": "ipython",
    "version": 3
   },
   "file_extension": ".py",
   "mimetype": "text/x-python",
   "name": "python",
   "nbconvert_exporter": "python",
   "pygments_lexer": "ipython3",
   "version": "3.12.5"
  }
 },
 "nbformat": 4,
 "nbformat_minor": 5
}
